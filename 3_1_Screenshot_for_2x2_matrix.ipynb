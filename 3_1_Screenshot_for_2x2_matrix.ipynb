{
  "nbformat": 4,
  "nbformat_minor": 0,
  "metadata": {
    "colab": {
      "name": "3.1 Screenshot for 2x2 matrix",
      "version": "0.3.2",
      "provenance": [],
      "collapsed_sections": []
    },
    "kernelspec": {
      "name": "python3",
      "display_name": "Python 3"
    }
  },
  "cells": [
    {
      "cell_type": "markdown",
      "metadata": {
        "id": "1CTpFwvOrex1",
        "colab_type": "text"
      },
      "source": [
        "# **3.1 Screenshot for 2x2 matrix**"
      ]
    },
    {
      "cell_type": "code",
      "metadata": {
        "id": "cRqcf7eHGJwE",
        "colab_type": "code",
        "colab": {
          "base_uri": "https://localhost:8080/",
          "height": 36
        },
        "outputId": "1de50305-2e94-4df3-fd9d-3914dae22e2f"
      },
      "source": [
        "from google.colab import drive\n",
        "drive.mount(\"/content/gdrive\")"
      ],
      "execution_count": 1,
      "outputs": [
        {
          "output_type": "stream",
          "text": [
            "Drive already mounted at /content/gdrive; to attempt to forcibly remount, call drive.mount(\"/content/gdrive\", force_remount=True).\n"
          ],
          "name": "stdout"
        }
      ]
    },
    {
      "cell_type": "code",
      "metadata": {
        "id": "jStlwfkJGVA9",
        "colab_type": "code",
        "colab": {
          "base_uri": "https://localhost:8080/",
          "height": 36
        },
        "outputId": "a5250261-9c34-40a5-a3ac-b2dda456427a"
      },
      "source": [
        "cd /content/gdrive/My Drive/SAKI/Exercise_3"
      ],
      "execution_count": 2,
      "outputs": [
        {
          "output_type": "stream",
          "text": [
            "/content/gdrive/My Drive/SAKI/Exercise_3\n"
          ],
          "name": "stdout"
        }
      ]
    },
    {
      "cell_type": "markdown",
      "metadata": {
        "id": "OOALwPRhAhZ6",
        "colab_type": "text"
      },
      "source": [
        "# Policy Calculation"
      ]
    },
    {
      "cell_type": "markdown",
      "metadata": {
        "id": "AExgg-xJGbJz",
        "colab_type": "text"
      },
      "source": [
        "Derivation of probabilites of subsequent states"
      ]
    },
    {
      "cell_type": "code",
      "metadata": {
        "id": "Kq7iQpKwGfVO",
        "colab_type": "code",
        "colab": {}
      },
      "source": [
        "import copy\n",
        "\n",
        "# Import of Trainings file\n",
        "with open(\"Warehousetraining2x2.txt\", \"r\") as inputpar:\n",
        "    trainingSet = inputpar.readlines()\n",
        "\n",
        "cleaned_training = []\n",
        "for i, x in enumerate(trainingSet):\n",
        "    y = x.replace(\"\\t\", \"\")\n",
        "    y = y.replace(\"\\n\", \"\")\n",
        "    cleaned_training.append(y)\n",
        "\n",
        "# Probabilities for each subsequent state\n",
        "listStoreWhite =[]\n",
        "listStoreRed = []\n",
        "listStoreBlue = []\n",
        "listRestoreWhite = []\n",
        "listRestoreRed = []\n",
        "listRestoreBlue = []\n",
        "together = [listStoreRed,  listStoreBlue, listStoreWhite, listRestoreRed, listRestoreBlue, listRestoreWhite,]\n",
        "for i, entry in enumerate(cleaned_training):\n",
        "    if i < len(cleaned_training)-1:\n",
        "        if entry == \"storered\":\n",
        "                listStoreRed.append(cleaned_training[i+1])\n",
        "        elif entry == \"storeblue\":\n",
        "                listStoreBlue.append(cleaned_training[i+1])\n",
        "        elif entry == \"storewhite\":\n",
        "                listStoreWhite.append(cleaned_training[i+1])\n",
        "        elif entry == \"restorered\":\n",
        "                listRestoreRed.append(cleaned_training[i+1])\n",
        "        elif entry == \"restoreblue\":\n",
        "                listRestoreBlue.append(cleaned_training[i+1])\n",
        "        elif entry == \"restorewhite\":\n",
        "                listRestoreWhite.append(cleaned_training[i+1])\n",
        "\n",
        "action_col_combination = []\n",
        "colour = [\"red\", \"blue\", \"white\"]\n",
        "store_restore = [\"store\", \"restore\"]\n",
        "for act in store_restore:\n",
        "        for col in colour:\n",
        "            action_col_combination.append(act+col)\n",
        "\n",
        "anzahlDict = {}\n",
        "trainingsDict = {0: 0, 1: 0, 2: 0, 3: 0, 4: 0, 5: 0}\n",
        "sums = {0: 0, 1: 0, 2: 0, 3: 0, 4: 0, 5: 0}\n",
        "\n",
        "for i, x in enumerate(together):\n",
        "        for ind in action_col_combination:\n",
        "            anzahlDict[ind] = x.count(ind)\n",
        "        for summe in anzahlDict:\n",
        "            sums[i] += anzahlDict[summe]\n",
        "        trainingsDict[i] = copy.deepcopy(anzahlDict)\n",
        "\n",
        "percentageDict = copy.deepcopy(trainingsDict)\n",
        "\n",
        "# Derivation of probabilites\n",
        "for i, o in enumerate(trainingsDict):\n",
        "    for x in action_col_combination:\n",
        "        percentageDict[i][x] = trainingsDict[i][x]/sums[i]\n",
        "for i in range(0, 6):\n",
        "    percentageDict[action_col_combination[i]] = percentageDict[i]\n",
        "    del percentageDict[i]"
      ],
      "execution_count": 0,
      "outputs": []
    },
    {
      "cell_type": "markdown",
      "metadata": {
        "id": "BpNBXp6aGvWf",
        "colab_type": "text"
      },
      "source": [
        "Setting up State-Matrix"
      ]
    },
    {
      "cell_type": "code",
      "metadata": {
        "id": "dEmeJHRFGueA",
        "colab_type": "code",
        "colab": {
          "base_uri": "https://localhost:8080/",
          "height": 36
        },
        "outputId": "b1e6be25-d840-415a-8c71-99dd8ca27779"
      },
      "source": [
        "import itertools\n",
        "\n",
        "fields = [(1, 1), (1, 2), (2, 1), (2, 2)]\n",
        "\n",
        "field_combination = []\n",
        "for i in range(0, len(fields)+1):\n",
        "    field_combination.append(list(itertools.combinations(fields, i)))\n",
        "    \n",
        "\n",
        "def combinations_with_replacement(iterable, r):\n",
        "    pool = tuple(iterable)\n",
        "    n = len(pool)\n",
        "    for indices in itertools.product(range(n), repeat=r):\n",
        "        yield tuple(pool[i] for i in indices)\n",
        "\n",
        "sr_space = []\n",
        "for act in store_restore:\n",
        "    for col in colour:\n",
        "        sr_space.append([act, col])\n",
        "\n",
        "color_combinations_state = []\n",
        "for i in range(0, len(fields)+1):\n",
        "        color_combinations_state.append(list(combinations_with_replacement(colour, i)))\n",
        "\n",
        "final_states = []\n",
        "for sr in sr_space:\n",
        "        for i, field in enumerate(field_combination):\n",
        "                for entry in field:\n",
        "                        for col in color_combinations_state[i]:\n",
        "                                final_states.append((entry, col, sr))                                \n",
        "print(len(final_states))\n"
      ],
      "execution_count": 9,
      "outputs": [
        {
          "output_type": "stream",
          "text": [
            "1536\n"
          ],
          "name": "stdout"
        }
      ]
    },
    {
      "cell_type": "markdown",
      "metadata": {
        "id": "UWxJjSQXG-eR",
        "colab_type": "text"
      },
      "source": [
        "Calculating Transition Probability Matrix and Reward Matrix"
      ]
    },
    {
      "cell_type": "code",
      "metadata": {
        "id": "zX_IZ0kNJfI2",
        "colab_type": "code",
        "colab": {
          "base_uri": "https://localhost:8080/",
          "height": 222
        },
        "outputId": "400ba12c-15e0-4070-fb39-b5eca99ab0e3"
      },
      "source": [
        "import numpy as np\n",
        "import pandas as pd\n",
        "import csv\n",
        "\n",
        "lookup_mtrx = {(1, 1): 8, (1, 2): 6, (2, 1): 6, (2, 2): 4}\n",
        "\n",
        "trans_prob_matrix = []\n",
        "reward_matrix = []\n",
        "for i in range(len(fields)):\n",
        "        trans_prob = np.zeros((len(final_states), len(final_states)), dtype=np.float16)\n",
        "        reward = np.full((len(final_states), len(final_states)), -6, dtype=np.int8)\n",
        "        trans_prob_matrix.append(trans_prob)\n",
        "        reward_matrix.append(reward)\n",
        "print(\"matrix intialized\")\n",
        "print(len(trans_prob_matrix[0]))\n",
        "\n",
        "\n",
        "def FindNewCoordinate(stateA, stateB):\n",
        "        a = 0\n",
        "\n",
        "        stateA = list(map(list, stateA))\n",
        "        stateB = list(map(list, stateB))\n",
        "\n",
        "        while a != len(stateA[0]):\n",
        "                coordA = stateA[0][a]\n",
        "                if coordA in stateB[0]:\n",
        "                        indexB = stateB[0].index(coordA)\n",
        "                        if stateA[1][a] == stateB[1][indexB]:\n",
        "                                del stateA[0][a]\n",
        "                                del stateB[0][indexB]\n",
        "                                del stateA[1][a]\n",
        "                                del stateB[1][indexB]\n",
        "                                a -= 1\n",
        "                a += 1\n",
        "\n",
        "        if len(stateA[0]) == 0:\n",
        "                stateB[0] = tuple(stateB[0])\n",
        "                stateB[1] = tuple(stateB[1])\n",
        "                return stateB, len(stateB[0])\n",
        "        elif len(stateB[0]) == 0:\n",
        "                stateA[0] = tuple(stateA[0])\n",
        "                stateA[1] = tuple(stateA[1])\n",
        "                return stateA, len(stateA[0])\n",
        "        return False\n",
        "\n",
        "\n",
        "# set up transition probability and reward matrix\n",
        "for a, action in enumerate(fields):\n",
        "        print(action)\n",
        "        for y, row in enumerate(final_states):\n",
        "                potential_illegal_states = []\n",
        "                for x, col in enumerate(final_states):\n",
        "                        if row[2][0] == \"store\":\n",
        "                                if len(row[0])+1 == len(col[0]):\n",
        "                                        helfer = FindNewCoordinate(row, col)\n",
        "                                        if helfer is not False:\n",
        "                                                if helfer[0][0][0] == action and helfer[0][1][0] == row[2][1]:\n",
        "                                                        trans_prob_matrix[a][y][x] = percentageDict[row[2][0]+row[2][1]][col[2][0]+col[2][1]]\n",
        "                                                        reward_matrix[a][y][x] = lookup_mtrx[action]\n",
        "                                elif len(row[0]) == len(col[0]):\n",
        "                                        helfer = FindNewCoordinate(row, col)\n",
        "                                        if helfer is not False and helfer[1] == 0:\n",
        "                                                potential_illegal_states.append(x)\n",
        "\n",
        "                        if row[2][0] == \"restore\":\n",
        "                                if len(row[0])-1 == len(col[0]):\n",
        "                                        helfer = FindNewCoordinate(row, col)\n",
        "                                        if helfer is not False:\n",
        "                                                if helfer[0][0][0] == action and helfer[0][1][0] == row[2][1]:\n",
        "                                                        trans_prob_matrix[a][y][x] = percentageDict[row[2][0]+row[2][1]][col[2][0]+col[2][1]]\n",
        "                                                        reward_matrix[a][y][x] = lookup_mtrx[action]\n",
        "                                elif len(row[0]) == len(col[0]):\n",
        "                                        helfer = FindNewCoordinate(row, col)\n",
        "                                        if helfer is not False and helfer[1] == 0:\n",
        "                                                potential_illegal_states.append(x)\n",
        "\n",
        "                if np.sum(trans_prob_matrix[a][y], dtype=np.float16) == 0:\n",
        "                        assert len(potential_illegal_states) == 6\n",
        "                        for candidates in potential_illegal_states:\n",
        "                                 trans_prob_matrix[a][y][candidates] = percentageDict[row[2][0]+row[2][1]][final_states[candidates][2][0]+final_states[candidates][2][1]]\n",
        "\n",
        "                if np.sum(trans_prob_matrix[a][y], dtype=np.float16) != 1:\n",
        "                        tmp = np.float16(1.0)-np.sum(trans_prob_matrix[a][y], dtype=np.float16)\n",
        "                        can = np.argwhere(x > 0)\n",
        "                        trans_prob_matrix[a][y][can[-1]] += tmp\n",
        "                assert np.sum(trans_prob_matrix[a][y], dtype=np.float16) == 1.0\n",
        "\n",
        "        pd.DataFrame(trans_prob_matrix[a]).to_csv(str(action)+\"transProbMatrix_adap_2x2.csv\", sep=\";\", header=final_states, decimal=\".\")\n",
        "        pd.DataFrame(reward_matrix[a]).to_csv(str(action)+\"rewardMatrix_adap_2x2.csv\", sep=\";\", header=final_states, decimal=\".\")\n",
        "        print(\"end of action\")\n",
        "print(\"end of transprob and reward matrix\")\n"
      ],
      "execution_count": 21,
      "outputs": [
        {
          "output_type": "stream",
          "text": [
            "matrix intialized\n",
            "1536\n",
            "(1, 1)\n",
            "end of action\n",
            "(1, 2)\n",
            "end of action\n",
            "(2, 1)\n",
            "end of action\n",
            "(2, 2)\n",
            "end of action\n",
            "end of transprob and reward matrix\n"
          ],
          "name": "stdout"
        }
      ]
    },
    {
      "cell_type": "markdown",
      "metadata": {
        "id": "5e3Xi_j8J6oh",
        "colab_type": "text"
      },
      "source": [
        "Policy Derivation using MDP Toolbox"
      ]
    },
    {
      "cell_type": "code",
      "metadata": {
        "id": "TKkcIpQLHGic",
        "colab_type": "code",
        "colab": {
          "base_uri": "https://localhost:8080/",
          "height": 203
        },
        "outputId": "3be5b5c8-dd19-44c8-ca85-0e9c6f8a8fab"
      },
      "source": [
        "!pip install pymdptoolbox"
      ],
      "execution_count": 13,
      "outputs": [
        {
          "output_type": "stream",
          "text": [
            "Collecting pymdptoolbox\n",
            "  Downloading https://files.pythonhosted.org/packages/56/55/500c4089d2951b794acd4bf9ed2c0ab5082e242bc15c5b4154f557922832/pymdptoolbox-4.0-b3.tar.gz\n",
            "Requirement already satisfied: numpy in /usr/local/lib/python3.6/dist-packages (from pymdptoolbox) (1.16.4)\n",
            "Requirement already satisfied: scipy in /usr/local/lib/python3.6/dist-packages (from pymdptoolbox) (1.3.0)\n",
            "Building wheels for collected packages: pymdptoolbox\n",
            "  Building wheel for pymdptoolbox (setup.py) ... \u001b[?25l\u001b[?25hdone\n",
            "  Stored in directory: /root/.cache/pip/wheels/87/a9/a8/40c4e252c02e590737265742425cdd0365fafcc162441a9527\n",
            "Successfully built pymdptoolbox\n",
            "Installing collected packages: pymdptoolbox\n",
            "Successfully installed pymdptoolbox-4.0b3\n"
          ],
          "name": "stdout"
        }
      ]
    },
    {
      "cell_type": "code",
      "metadata": {
        "id": "s78CNbq3KFZ6",
        "colab_type": "code",
        "colab": {}
      },
      "source": [
        "import mdptoolbox\n",
        "import time"
      ],
      "execution_count": 0,
      "outputs": []
    },
    {
      "cell_type": "code",
      "metadata": {
        "id": "a0ShBmxSKKZL",
        "colab_type": "code",
        "colab": {
          "base_uri": "https://localhost:8080/",
          "height": 54
        },
        "outputId": "75dc5c1f-b83b-4ea7-921f-3acacf584a03"
      },
      "source": [
        "# Value Iteration\n",
        "ts_beginning = time.time()\n",
        "pi_vi = mdptoolbox.mdp.ValueIteration(trans_prob_matrix, reward_matrix, 0.999)\n",
        "pi_vi.run()\n",
        "pd.DataFrame(pi_vi.policy).to_csv(\"ValueIterationPolicy.csv\", sep=\";\")\n",
        "ts_end = time.time()\n",
        "time_difference = ts_end - ts_beginning\n",
        "print(time_difference)\n",
        "pi_vi.iter"
      ],
      "execution_count": 15,
      "outputs": [
        {
          "output_type": "stream",
          "text": [
            "209.4780113697052\n"
          ],
          "name": "stdout"
        },
        {
          "output_type": "execute_result",
          "data": {
            "text/plain": [
              "3480"
            ]
          },
          "metadata": {
            "tags": []
          },
          "execution_count": 15
        }
      ]
    },
    {
      "cell_type": "code",
      "metadata": {
        "id": "5xH1acPHKXhO",
        "colab_type": "code",
        "colab": {
          "base_uri": "https://localhost:8080/",
          "height": 54
        },
        "outputId": "a9a282e2-e7fe-452f-df98-2d6515e5e1cd"
      },
      "source": [
        "# Value Iteration Gauss-Seidel\n",
        "ts_beginning = time.time()\n",
        "pi_vigs = mdptoolbox.mdp.ValueIterationGS(trans_prob_matrix, reward_matrix, 0.999)\n",
        "pi_vigs.run()\n",
        "pd.DataFrame(pi_vigs.policy).to_csv(\"ValueIterationPolicyGS.csv\", sep=\";\")\n",
        "ts_end = time.time()\n",
        "time_difference = ts_end - ts_beginning\n",
        "print(time_difference)\n",
        "pi_vigs.iter"
      ],
      "execution_count": 16,
      "outputs": [
        {
          "output_type": "stream",
          "text": [
            "287.5871260166168\n"
          ],
          "name": "stdout"
        },
        {
          "output_type": "execute_result",
          "data": {
            "text/plain": [
              "3848"
            ]
          },
          "metadata": {
            "tags": []
          },
          "execution_count": 16
        }
      ]
    },
    {
      "cell_type": "code",
      "metadata": {
        "id": "M1TgSurmKfyU",
        "colab_type": "code",
        "colab": {
          "base_uri": "https://localhost:8080/",
          "height": 54
        },
        "outputId": "ec426e68-1158-4472-c520-886908e7baeb"
      },
      "source": [
        "# Relative Value Iteration\n",
        "ts_beginning = time.time()\n",
        "pi_rvi = mdptoolbox.mdp.RelativeValueIteration(trans_prob_matrix, reward_matrix)\n",
        "pi_rvi.run()\n",
        "pd.DataFrame(pi_rvi.policy).to_csv(\"RelativeValueIterationPolicy.csv\", sep=\";\")\n",
        "ts_end = time.time()\n",
        "time_difference = ts_end - ts_beginning\n",
        "print(time_difference)\n",
        "pi_rvi.iter"
      ],
      "execution_count": 17,
      "outputs": [
        {
          "output_type": "stream",
          "text": [
            "4.8184967041015625\n"
          ],
          "name": "stdout"
        },
        {
          "output_type": "execute_result",
          "data": {
            "text/plain": [
              "71"
            ]
          },
          "metadata": {
            "tags": []
          },
          "execution_count": 17
        }
      ]
    },
    {
      "cell_type": "code",
      "metadata": {
        "id": "oGiqP_8_Km_f",
        "colab_type": "code",
        "colab": {
          "base_uri": "https://localhost:8080/",
          "height": 54
        },
        "outputId": "16c2edcf-283e-4714-cfb3-7acf6e9abf76"
      },
      "source": [
        "# Policy Iteration\n",
        "ts_beginning = time.time()\n",
        "pi_pi = mdptoolbox.mdp.PolicyIteration(trans_prob_matrix, reward_matrix, 0.999)\n",
        "pi_pi.run()\n",
        "pd.DataFrame(pi_pi.policy).to_csv(\"PolicyIteration.csv\", sep=\";\")\n",
        "ts_end = time.time()\n",
        "time_difference = ts_end - ts_beginning\n",
        "print(time_difference)\n",
        "pi_pi.iter"
      ],
      "execution_count": 18,
      "outputs": [
        {
          "output_type": "stream",
          "text": [
            "218.27008652687073\n"
          ],
          "name": "stdout"
        },
        {
          "output_type": "execute_result",
          "data": {
            "text/plain": [
              "1000"
            ]
          },
          "metadata": {
            "tags": []
          },
          "execution_count": 18
        }
      ]
    },
    {
      "cell_type": "code",
      "metadata": {
        "id": "Bn4bK3LjKqnN",
        "colab_type": "code",
        "colab": {
          "base_uri": "https://localhost:8080/",
          "height": 54
        },
        "outputId": "8238a5b0-3565-4acc-9f86-8ca99139653e"
      },
      "source": [
        "# Modified Policy Iteration\n",
        "ts_beginning = time.time()\n",
        "pi_mvi = mdptoolbox.mdp.PolicyIterationModified(trans_prob_matrix, reward_matrix, 0.999)\n",
        "pi_mvi.run()\n",
        "pd.DataFrame(pi_mvi.policy).to_csv(\"ModifiedPolicyIteration.csv\", sep=\";\")\n",
        "ts_end = time.time()\n",
        "time_difference = ts_end - ts_beginning\n",
        "print(time_difference)\n",
        "pi_mvi.iter"
      ],
      "execution_count": 19,
      "outputs": [
        {
          "output_type": "stream",
          "text": [
            "41.088613510131836\n"
          ],
          "name": "stdout"
        },
        {
          "output_type": "execute_result",
          "data": {
            "text/plain": [
              "458"
            ]
          },
          "metadata": {
            "tags": []
          },
          "execution_count": 19
        }
      ]
    },
    {
      "cell_type": "markdown",
      "metadata": {
        "id": "PFlwP6h_AR8_",
        "colab_type": "text"
      },
      "source": [
        "# Policy Evaluation"
      ]
    },
    {
      "cell_type": "markdown",
      "metadata": {
        "id": "HKSzx7PwEAhF",
        "colab_type": "text"
      },
      "source": [
        "Import Warehouse Order"
      ]
    },
    {
      "cell_type": "code",
      "metadata": {
        "id": "yr34pZbiAdC1",
        "colab_type": "code",
        "colab": {}
      },
      "source": [
        "with open (\"SAKI Exercise 3 warehouseordernew.txt\",\"r\") as inputpar:\n",
        "    trainingSet = inputpar.readlines()\n",
        "\n",
        "iter_trainingsset= []\n",
        "for i, x in enumerate(trainingSet):\n",
        "        y = x.replace(\"\\t\", \" \")\n",
        "        y = y.replace(\"\\n\", \"\")\n",
        "        y = y.split()\n",
        "        iter_trainingsset.append(y)"
      ],
      "execution_count": 0,
      "outputs": []
    },
    {
      "cell_type": "markdown",
      "metadata": {
        "id": "qMSUYtOdELCB",
        "colab_type": "text"
      },
      "source": [
        "Greedy Algorithm"
      ]
    },
    {
      "cell_type": "code",
      "metadata": {
        "id": "gEsx9__SEKMW",
        "colab_type": "code",
        "colab": {
          "base_uri": "https://localhost:8080/",
          "height": 56
        },
        "outputId": "e1daa16c-6dbb-4065-b959-51c18c202b91"
      },
      "source": [
        "distance_greedy = {(1, 1): 1, (1, 2): 2, (2, 1): 2, (2, 2): 3}\n",
        "greedy_matrix = [[0, \"empty\"], [0, \"empty\"], [0, \"empty\"], [0, \"empty\"]]\n",
        "eval_greedy_algorithm = []\n",
        "for row in iter_trainingsset:\n",
        "    if row[0] == \"store\":\n",
        "        for i, action in enumerate(fields):\n",
        "            if greedy_matrix[i][0] == 0:\n",
        "                greedy_matrix[i][0] = 1\n",
        "                greedy_matrix[i][1] = row[1]\n",
        "                eval_greedy_algorithm.append([row, action, distance_greedy[action]])\n",
        "                break\n",
        "    elif row[0] == \"restore\":        \n",
        "        for i, action in enumerate(fields):\n",
        "            if greedy_matrix[i][0] == 1 and row[1] == greedy_matrix[i][1]:\n",
        "                greedy_matrix[i][0] = 0\n",
        "                greedy_matrix[i][1] = \"empty\"\n",
        "                eval_greedy_algorithm.append([row, action, distance_greedy[action]])\n",
        "                break\n",
        "pd.DataFrame(eval_greedy_algorithm).to_csv(\"eval_greedy_algorithm_2x2.csv\", sep=\";\")\n",
        "\n",
        "print(eval_greedy_algorithm)\n"
      ],
      "execution_count": 25,
      "outputs": [
        {
          "output_type": "stream",
          "text": [
            "[[['store', 'white'], (1, 1), 1], [['store', 'red'], (1, 2), 2], [['restore', 'red'], (1, 2), 2], [['store', 'blue'], (1, 2), 2], [['store', 'red'], (2, 1), 2], [['store', 'red'], (2, 2), 3], [['restore', 'red'], (2, 1), 2], [['restore', 'blue'], (1, 2), 2], [['store', 'blue'], (1, 2), 2], [['store', 'red'], (2, 1), 2], [['restore', 'red'], (2, 1), 2], [['store', 'red'], (2, 1), 2], [['restore', 'red'], (2, 1), 2], [['store', 'red'], (2, 1), 2], [['restore', 'red'], (2, 1), 2], [['store', 'red'], (2, 1), 2], [['restore', 'blue'], (1, 2), 2], [['store', 'red'], (1, 2), 2], [['restore', 'red'], (1, 2), 2], [['restore', 'white'], (1, 1), 1]]\n"
          ],
          "name": "stdout"
        }
      ]
    },
    {
      "cell_type": "markdown",
      "metadata": {
        "id": "dQLTvQrOEUM0",
        "colab_type": "text"
      },
      "source": [
        "Evaluation of MDP policies"
      ]
    },
    {
      "cell_type": "code",
      "metadata": {
        "id": "ZD9Or6K8Eai_",
        "colab_type": "code",
        "colab": {
          "base_uri": "https://localhost:8080/",
          "height": 56
        },
        "outputId": "99e5f99a-3123-4a88-a4b4-0b474f0a3df8"
      },
      "source": [
        "import re\n",
        "\n",
        "with open(\"ModifiedPolicyIteration.csv\", \"r\") as inputpar:\n",
        "    policy = inputpar.readlines()\n",
        "\n",
        "cleaned_policy = []\n",
        "for i, x in enumerate(policy):\n",
        "    if i > 0:\n",
        "        if len(cleaned_policy) == 9 or len(cleaned_policy) == 99 or len(cleaned_policy) == 999:\n",
        "            y = x[len(str(i)):]\n",
        "            y = y.replace(\"\\n\", \"\")\n",
        "            cleaned_policy.append(y)\n",
        "        else:\n",
        "            y = x[len(str(i))+1:]\n",
        "            y = y.replace(\"\\n\", \"\")\n",
        "            cleaned_policy.append(y)\n",
        "\n",
        "\n",
        "def lookup_candidate(matrix, stateB):\n",
        "    list_coord = []\n",
        "    list_colour = []\n",
        "    for i in matrix:\n",
        "        if i[1] != \"empty\":\n",
        "            list_coord.append(i[2])\n",
        "            list_colour.append(i[1])\n",
        "    if len(list_coord) != len(stateB[0]):\n",
        "        return False\n",
        "    for i in range(0, len(list_coord)):\n",
        "        if list_coord[i] != stateB[0][i] or list_colour[i] != stateB[1][i]:\n",
        "            return False\n",
        "    return True\n",
        "\n",
        "\n",
        "rl_matrix = [[0, \"empty\", (1, 1)], [0, \"empty\", (1, 2)], [0, \"empty\", (2, 1)], [0, \"empty\", (2, 2)]]\n",
        "distance_rl = {\"0\": 1, \"1\": 2, \"2\": 2, \"3\": 3}\n",
        "rl_algorithm = []\n",
        "\n",
        "\n",
        "def empty_counter(matrix):\n",
        "    counter = 0\n",
        "    for entry in rl_matrix:\n",
        "        if entry[1] != \"empty\":\n",
        "            counter += 1\n",
        "    return counter\n",
        "\n",
        "\n",
        "def inner_func():\n",
        "    for state_index, row_states in enumerate(final_states):\n",
        "            if row_states[2][0] == row[0] and row_states[2][1] == row[1]:\n",
        "                            if not(rl_matrix[0][1] == rl_matrix[1][1] == rl_matrix[2][1] == rl_matrix[3][1] == \"empty\"):\n",
        "                                    count = 0\n",
        "                                    for it in range(0, len(row_states[0])):\n",
        "                                            if rl_matrix[it][1] == \"empty\" and row_states[1][it] != \"\":\n",
        "                                                    if lookup_candidate(rl_matrix, row_states) is True and row[0] == \"store\":\n",
        "                                                                    step_counter = str(cleaned_policy[state_index])\n",
        "                                                                    rl_matrix[int(cleaned_policy[state_index])][0] = 1\n",
        "                                                                    rl_matrix[int(cleaned_policy[state_index])][1] = row[1]\n",
        "                                                                    rl_algorithm.append([row, rl_matrix[int(cleaned_policy[state_index])][2], distance_rl[step_counter]])\n",
        "                                                                    return\n",
        "                                                    if lookup_candidate(rl_matrix, row_states) is True and row[0] == \"restore\":\n",
        "                                                                    step_counter = str(cleaned_policy[state_index])\n",
        "                                                                    rl_matrix[int(cleaned_policy[state_index])][0]= 0\n",
        "                                                                    rl_matrix[int(cleaned_policy[state_index])][1]=\"empty\"\n",
        "                                                                    rl_algorithm.append([row,rl_matrix[int(cleaned_policy[state_index])][2],distance_rl[step_counter]])\n",
        "                                                                    return\n",
        "                                                    else:\n",
        "                                                            continue                                                                                                                      \n",
        "                                            if rl_matrix[it][2] == row_states[0][it] and rl_matrix[it][1] == row_states[1][it]:\n",
        "                                                    count += 1\n",
        "                                                    if count == len(row_states[0]) == empty_counter(rl_matrix):\n",
        "                                                            if row[0] == \"store\":\n",
        "                                                                    step_counter = str(cleaned_policy[state_index])\n",
        "                                                                    rl_matrix[int(cleaned_policy[state_index])][0] = 1\n",
        "                                                                    rl_matrix[int(cleaned_policy[state_index])][1] = row[1]\n",
        "                                                                    rl_algorithm.append([row, rl_matrix[int(cleaned_policy[state_index])][2], distance_rl[step_counter]])\n",
        "                                                                    return\n",
        "                                                            elif row[0] == \"restore\":\n",
        "                                                                    step_counter = str(cleaned_policy[state_index])\n",
        "                                                                    rl_matrix[int(cleaned_policy[state_index])][0] = 0\n",
        "                                                                    rl_matrix[int(cleaned_policy[state_index])][1] =\"empty\"\n",
        "                                                                    rl_algorithm.append([row, rl_matrix[int(cleaned_policy[state_index])][2], distance_rl[step_counter]])\n",
        "                                                                    return\n",
        "                            # case empty matrix\n",
        "                            else:\n",
        "                                    if row[0] == row_states[2][0] and row[1] == row_states[2][1]:\n",
        "                                            if row[0] == \"store\":\n",
        "                                                    step_counter = str(cleaned_policy[state_index])\n",
        "                                                    rl_matrix[int(cleaned_policy[state_index])][0] = 1\n",
        "                                                    rl_matrix[int(cleaned_policy[state_index])][1] = row[1]\n",
        "                                                    rl_algorithm.append([row, rl_matrix[int(cleaned_policy[state_index])][2], distance_rl[step_counter]])\n",
        "                                                    return\n",
        "                                            elif row[0] == \"restore\":\n",
        "                                                    step_counter = str(cleaned_policy[state_index])\n",
        "                                                    rl_matrix[int(cleaned_policy[state_index])][0] = 0\n",
        "                                                    rl_matrix[int(cleaned_policy[state_index])][1] = \"empty\"\n",
        "                                                    rl_algorithm.append([row, rl_matrix[int(cleaned_policy[state_index])][2], distance_rl[step_counter]])\n",
        "                                                    return\n",
        "\n",
        "for j, row in enumerate(iter_trainingsset):\n",
        "    inner_func()\n",
        "\n",
        "pd.DataFrame(rl_algorithm).to_csv(\"rl_algorithm.csv\", sep=\";\")\n",
        "print(rl_algorithm)"
      ],
      "execution_count": 28,
      "outputs": [
        {
          "output_type": "stream",
          "text": [
            "[[['store', 'white'], (1, 2), 2], [['store', 'red'], (1, 1), 1], [['restore', 'red'], (1, 1), 1], [['store', 'blue'], (1, 1), 1], [['store', 'red'], (2, 1), 2], [['store', 'red'], (2, 2), 3], [['restore', 'red'], (2, 1), 2], [['restore', 'blue'], (1, 1), 1], [['store', 'blue'], (1, 1), 1], [['store', 'red'], (2, 1), 2], [['restore', 'red'], (2, 1), 2], [['store', 'red'], (2, 1), 2], [['restore', 'red'], (2, 1), 2], [['store', 'red'], (2, 1), 2], [['restore', 'red'], (2, 1), 2], [['store', 'red'], (2, 1), 2], [['restore', 'blue'], (1, 1), 1], [['store', 'red'], (1, 1), 1], [['restore', 'red'], (1, 1), 1], [['restore', 'white'], (1, 2), 2]]\n"
          ],
          "name": "stdout"
        }
      ]
    }
  ]
}